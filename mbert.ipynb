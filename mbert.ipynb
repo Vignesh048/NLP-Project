{
 "cells": [
  {
   "cell_type": "code",
   "execution_count": 1,
   "metadata": {},
   "outputs": [],
   "source": [
    "import numpy as np\n",
    "import pandas as pd\n",
    "import os\n",
    "import torch\n",
    "import time, sys\n",
    "from transformers import AlbertForQuestionAnswering,AlbertTokenizerFast,AutoTokenizer,AutoModelForQuestionAnswering,AutoModel"
   ]
  },
  {
   "cell_type": "code",
   "execution_count": null,
   "metadata": {},
   "outputs": [],
   "source": [
    "tokenizer_address = '../input/huggingface-question-answering-models/multilingual/bert-multi-uncased-finetuned-xquadv1'\n",
    "model_address = '../input/huggingface-question-answering-models/multilingual/bert-multi-uncased-finetuned-xquadv1'\n",
    "\n",
    "tokenizer = BertTokenizerFast.from_pretrained(tokenizer_address)\n",
    "tokenizer.model_max_length = 512 # only for ALBERT\n",
    "\n",
    "device = torch.device('cuda') if torch.cuda.is_available() else torch.device('cpu')"
   ]
  },
  {
   "cell_type": "code",
   "execution_count": null,
   "metadata": {},
   "outputs": [],
   "source": [
    "train_data = pd.read_csv(\"../input/chaii-hindi-and-tamil-question-answering/train.csv\")\n",
    "dev_data = pd.read_csv(\"../input/chaii-hindi-and-tamil-question-answering/test.csv\")\n",
    "# size = 100 # size if train set used\n",
    "\n",
    "def preprocess_data(data):\n",
    "    encodings = tokenizer(list(data[\"context\"]), list(data[\"question\"]), truncation=True, padding=True)\n",
    "\n",
    "    start_positions = []\n",
    "    end_positions = []\n",
    "    id_ = []\n",
    "    for i in range(len(data[\"answer_start\"])):\n",
    "        start_positions.append(encodings.char_to_token(i,data[\"answer_start\"][i]))\n",
    "        end_positions.append(encodings.char_to_token( i,(data[\"answer_start\"][i] + len(data['answer_text'][i]) - 1) ))\n",
    "        \n",
    "            \n",
    "        # if start position is None, the answer passage has been truncated\n",
    "        if start_positions[-1] is None:\n",
    "            start_positions[-1] = tokenizer.model_max_length\n",
    "        if end_positions[-1] is None:\n",
    "            end_positions[-1] = tokenizer.model_max_length\n",
    "        \n",
    "        \n",
    "    encodings.update({'start_positions': start_positions, 'end_positions': end_positions})\n",
    "    \n",
    "    return encodings\n",
    "\n",
    "len(train_data)"
   ]
  },
  {
   "cell_type": "code",
   "execution_count": null,
   "metadata": {},
   "outputs": [],
   "source": [
    "train_encodings = preprocess_data(train_data)\n",
    "dev_encodings = tokenizer(list(dev_data[\"context\"]), list(dev_data[\"question\"]),max_length=512, truncation=True, padding=True)"
   ]
  },
  {
   "cell_type": "code",
   "execution_count": null,
   "metadata": {},
   "outputs": [],
   "source": [
    "from torch.utils.data import DataLoader\n",
    "from transformers import AdamW\n",
    "\n",
    "class chaiDataset(torch.utils.data.Dataset):\n",
    "    def __init__(self, encodings):\n",
    "        self.encodings = encodings\n",
    "\n",
    "    def __getitem__(self, idx):\n",
    "        return {key: torch.tensor(val[idx]) for key, val in self.encodings.items()}\n",
    "\n",
    "    def __len__(self):\n",
    "        return len(self.encodings.input_ids)\n",
    "    \n",
    "train_dataset = chaiDataset(train_encodings)\n",
    "dev_dataset = chaiDataset(dev_encodings)\n",
    "\n",
    "train_loader = DataLoader(train_dataset, batch_size=2, shuffle=True)\n",
    "dev_loader = DataLoader(dev_dataset, batch_size=1, shuffle=False)"
   ]
  },
  {
   "cell_type": "code",
   "execution_count": null,
   "metadata": {},
   "outputs": [],
   "source": [
    "model = BertForQuestionAnswering.from_pretrained(model_address)\n",
    "\n",
    "for param in model.bert.parameters():\n",
    "    param.requires_grad = False\n",
    "\n",
    "model.to(device)"
   ]
  },
  {
   "cell_type": "code",
   "execution_count": null,
   "metadata": {},
   "outputs": [],
   "source": [
    "optim = AdamW(model.parameters(), lr=1e-4)\n",
    "\n",
    "model.train()\n",
    "\n",
    "for epoch in range(30):\n",
    "    epoch_loss=0\n",
    "    for batch in train_loader:\n",
    "        optim.zero_grad()\n",
    "        input_ids = batch['input_ids'].to(device)\n",
    "        attention_mask = batch['attention_mask'].to(device)\n",
    "        start_positions = batch['start_positions'].to(device)\n",
    "        end_positions = batch['end_positions'].to(device)\n",
    "        outputs = model(input_ids, attention_mask=attention_mask, start_positions=start_positions, end_positions=end_positions)\n",
    "        loss = outputs[0]\n",
    "        loss.backward()\n",
    "        batch_loss=loss.item()\n",
    "        optim.step()\n",
    "        epoch_loss+=batch_loss\n",
    "    normalized_epoch_loss = epoch_loss/(len(train_loader))\n",
    "    print(\"Epoch {} ; Epoch loss: {} \".format(epoch+1,normalized_epoch_loss))"
   ]
  },
  {
   "cell_type": "code",
   "execution_count": null,
   "metadata": {},
   "outputs": [],
   "source": [
    "torch.save(model,\"model_2\")\n",
    "# model = torch.load(\"../input/chaii-torch/model_2\")"
   ]
  },
  {
   "cell_type": "code",
   "execution_count": null,
   "metadata": {},
   "outputs": [],
   "source": [
    "model.eval()\n",
    "output_words,output_id = [],[]\n",
    "for batch in dev_loader:\n",
    "    input_ids = batch['input_ids'].to(device)\n",
    "    attention_mask = batch['attention_mask'].to(device)\n",
    "    outputs = model(input_ids, attention_mask=attention_mask)\n",
    "    start = torch.argmax(outputs[\"start_logits\"])\n",
    "    end = torch.argmax(outputs[\"end_logits\"])\n",
    "    output_tokens = tokenizer.convert_ids_to_tokens(input_ids[0][start:end+1])\n",
    "    output_words.append(tokenizer.convert_tokens_to_string(output_tokens))"
   ]
  },
  {
   "cell_type": "code",
   "execution_count": null,
   "metadata": {},
   "outputs": [],
   "source": [
    "dev_results = pd.DataFrame({\"id\":dev_data[\"id\"],\"PredictionString\":output_words})\n",
    "dev_results.to_csv(\"submission.csv\",index=False)"
   ]
  }
 ],
 "metadata": {
  "kernelspec": {
   "display_name": "Python 3",
   "language": "python",
   "name": "python3"
  },
  "language_info": {
   "codemirror_mode": {
    "name": "ipython",
    "version": 3
   },
   "file_extension": ".py",
   "mimetype": "text/x-python",
   "name": "python",
   "nbconvert_exporter": "python",
   "pygments_lexer": "ipython3",
   "version": "3.9.0"
  }
 },
 "nbformat": 4,
 "nbformat_minor": 4
}
